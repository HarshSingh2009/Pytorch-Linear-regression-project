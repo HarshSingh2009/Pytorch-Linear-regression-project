{
  "nbformat": 4,
  "nbformat_minor": 0,
  "metadata": {
    "colab": {
      "provenance": [],
      "gpuType": "T4"
    },
    "kernelspec": {
      "name": "python3",
      "display_name": "Python 3"
    },
    "language_info": {
      "name": "python"
    },
    "accelerator": "GPU"
  },
  "cells": [
    {
      "cell_type": "markdown",
      "source": [
        "# PyTorch Linear Regression Project\n",
        "\n",
        "😇 In this project, we are going to build a `PyTorch linear model`, that is trained with `custom generated linear-regression data`"
      ],
      "metadata": {
        "id": "OT12spa4br5q"
      }
    },
    {
      "cell_type": "code",
      "source": [
        "import torch\n",
        "import numpy as np\n",
        "import matplotlib.pyplot as plt"
      ],
      "metadata": {
        "id": "Q5UxssnldZp7"
      },
      "execution_count": 1,
      "outputs": []
    },
    {
      "cell_type": "code",
      "source": [
        "torch.__version__"
      ],
      "metadata": {
        "colab": {
          "base_uri": "https://localhost:8080/",
          "height": 35
        },
        "id": "ssGp0jz5duh5",
        "outputId": "486f618d-64b2-4d7a-cc33-0b538cbb206d"
      },
      "execution_count": 2,
      "outputs": [
        {
          "output_type": "execute_result",
          "data": {
            "text/plain": [
              "'2.1.0+cu118'"
            ],
            "application/vnd.google.colaboratory.intrinsic+json": {
              "type": "string"
            }
          },
          "metadata": {},
          "execution_count": 2
        }
      ]
    },
    {
      "cell_type": "markdown",
      "source": [
        "## Building a Custom Linear Regression Data\n",
        "* Use the linear-regression formula `y = w*X + b` to create a dataset with X and y values"
      ],
      "metadata": {
        "id": "8HjJmsgwcRqb"
      }
    },
    {
      "cell_type": "code",
      "source": [
        "# set known parameters\n",
        "weight = 0.3\n",
        "bias = 0.9\n",
        "\n",
        "# Create a linear dataset\n",
        "START = 0\n",
        "END = 1\n",
        "STEP = 0.01\n",
        "\n",
        "X = torch.arange(START, END, STEP).unsqueeze(dim=1)\n",
        "y = weight * X + bias"
      ],
      "metadata": {
        "id": "bcaaozRHch_z"
      },
      "execution_count": 3,
      "outputs": []
    },
    {
      "cell_type": "code",
      "source": [
        "X[:5], y[:5]"
      ],
      "metadata": {
        "colab": {
          "base_uri": "https://localhost:8080/"
        },
        "id": "3aenn3HjfEqP",
        "outputId": "9c20b54e-b03a-4f8c-eb71-dc2c3a52c48c"
      },
      "execution_count": 4,
      "outputs": [
        {
          "output_type": "execute_result",
          "data": {
            "text/plain": [
              "(tensor([[0.0000],\n",
              "         [0.0100],\n",
              "         [0.0200],\n",
              "         [0.0300],\n",
              "         [0.0400]]),\n",
              " tensor([[0.9000],\n",
              "         [0.9030],\n",
              "         [0.9060],\n",
              "         [0.9090],\n",
              "         [0.9120]]))"
            ]
          },
          "metadata": {},
          "execution_count": 4
        }
      ]
    },
    {
      "cell_type": "code",
      "source": [
        "X.shape, y.shape"
      ],
      "metadata": {
        "colab": {
          "base_uri": "https://localhost:8080/"
        },
        "id": "brx14SgNfE9D",
        "outputId": "e2ef5779-0e4f-4b02-f90f-1466b281c056"
      },
      "execution_count": 5,
      "outputs": [
        {
          "output_type": "execute_result",
          "data": {
            "text/plain": [
              "(torch.Size([100, 1]), torch.Size([100, 1]))"
            ]
          },
          "metadata": {},
          "execution_count": 5
        }
      ]
    },
    {
      "cell_type": "markdown",
      "source": [
        "### Splitting into Train and Test set\n",
        "* We are going to perform a 80-20% Train test split"
      ],
      "metadata": {
        "id": "w8DbC7t_dE8V"
      }
    },
    {
      "cell_type": "code",
      "source": [
        "train_size = int(len(X)*0.8)\n",
        "\n",
        "X_train, y_train = X[:train_size], y[:train_size]\n",
        "X_test, y_test = X[train_size:], y[train_size:]\n",
        "\n",
        "X_train.shape, y_train.shape, X_test.shape, y_test.shape"
      ],
      "metadata": {
        "colab": {
          "base_uri": "https://localhost:8080/"
        },
        "id": "lLt5kkdfdT71",
        "outputId": "6295414a-b065-44f8-e7f9-097c5559639b"
      },
      "execution_count": 6,
      "outputs": [
        {
          "output_type": "execute_result",
          "data": {
            "text/plain": [
              "(torch.Size([80, 1]),\n",
              " torch.Size([80, 1]),\n",
              " torch.Size([20, 1]),\n",
              " torch.Size([20, 1]))"
            ]
          },
          "metadata": {},
          "execution_count": 6
        }
      ]
    },
    {
      "cell_type": "markdown",
      "source": [
        "### Visualizing our data"
      ],
      "metadata": {
        "id": "0UQ65Sh3dMED"
      }
    },
    {
      "cell_type": "code",
      "source": [
        "def plot_predictions(train_data=X_train, train_labels=y_train,\n",
        "                     test_data=X_test, test_labels=y_test,\n",
        "                     predictions=None):\n",
        "  plt.scatter(train_data, train_labels, s=4, color='blue', label='Train Data')\n",
        "  plt.scatter(test_data, test_labels, s=4, color='orange', label='Test Data')\n",
        "  if predictions != None:\n",
        "    plt.scatter(test_data, predictions, s=4, color='green', label='predictions')\n",
        "  plt.title('Train vs Test vs Predictions')\n",
        "  plt.legend()\n",
        "  plt.grid()\n",
        "  plt.show()\n",
        "\n",
        "plot_predictions()"
      ],
      "metadata": {
        "colab": {
          "base_uri": "https://localhost:8080/",
          "height": 452
        },
        "id": "Qo9k3veNdHB5",
        "outputId": "a8cc9827-74b4-442e-d34a-4b34ef5d0215"
      },
      "execution_count": 7,
      "outputs": [
        {
          "output_type": "display_data",
          "data": {
            "text/plain": [
              "<Figure size 640x480 with 1 Axes>"
            ],
            "image/png": "[encoded data removed]"
          },
          "metadata": {}
        }
      ]
    },
    {
      "cell_type": "markdown",
      "source": [
        "## Build our PyTorch Linear model"
      ],
      "metadata": {
        "id": "COfmYK6tgwyl"
      }
    },
    {
      "cell_type": "code",
      "source": [
        "from torch import nn\n",
        "\n",
        "class LinearRegressionModel(nn.Module):\n",
        "  def __init__(self):\n",
        "    super().__init__()\n",
        "\n",
        "    # Create a Linear/Dense/Fully-connected/linear-transformation layer!\n",
        "    self.linear_layer = nn.Linear(in_features=1, out_features=1)\n",
        "\n",
        "  def forward(self, X:torch.Tensor) -> torch.Tensor:\n",
        "    return self.linear_layer(X)"
      ],
      "metadata": {
        "id": "myM7K-5HgosY"
      },
      "execution_count": 8,
      "outputs": []
    },
    {
      "cell_type": "code",
      "source": [
        "# Create a Linear Regression Model instance\n",
        "torch.manual_seed(42)\n",
        "model = LinearRegressionModel()"
      ],
      "metadata": {
        "id": "98hrBpR6hk6A"
      },
      "execution_count": 9,
      "outputs": []
    },
    {
      "cell_type": "code",
      "source": [
        "model.state_dict()"
      ],
      "metadata": {
        "colab": {
          "base_uri": "https://localhost:8080/"
        },
        "id": "ajLDR5mZirWp",
        "outputId": "4ab2d553-09d8-4830-ef14-ad0b49c31881"
      },
      "execution_count": 10,
      "outputs": [
        {
          "output_type": "execute_result",
          "data": {
            "text/plain": [
              "OrderedDict([('linear_layer.weight', tensor([[0.7645]])),\n",
              "             ('linear_layer.bias', tensor([0.8300]))])"
            ]
          },
          "metadata": {},
          "execution_count": 10
        }
      ]
    },
    {
      "cell_type": "code",
      "source": [
        "list(model.parameters())"
      ],
      "metadata": {
        "colab": {
          "base_uri": "https://localhost:8080/"
        },
        "id": "I8QtejIUisrB",
        "outputId": "75cfd6ef-8fe9-421d-83fc-2f4077d6fc2e"
      },
      "execution_count": 11,
      "outputs": [
        {
          "output_type": "execute_result",
          "data": {
            "text/plain": [
              "[Parameter containing:\n",
              " tensor([[0.7645]], requires_grad=True),\n",
              " Parameter containing:\n",
              " tensor([0.8300], requires_grad=True)]"
            ]
          },
          "metadata": {},
          "execution_count": 11
        }
      ]
    },
    {
      "cell_type": "markdown",
      "source": [
        "### Predict & Plot with our randomly initialized PyTorch Linear Model"
      ],
      "metadata": {
        "id": "rDWZ7v3RjPez"
      }
    },
    {
      "cell_type": "code",
      "source": [
        "with torch.inference_mode():\n",
        "  y_pred = model(X_test)\n",
        "y_pred[:10]"
      ],
      "metadata": {
        "colab": {
          "base_uri": "https://localhost:8080/"
        },
        "id": "IyHLVt0jjKk8",
        "outputId": "52abd96c-ae22-4079-cb9a-0455b501d7ce"
      },
      "execution_count": 12,
      "outputs": [
        {
          "output_type": "execute_result",
          "data": {
            "text/plain": [
              "tensor([[1.4416],\n",
              "        [1.4493],\n",
              "        [1.4569],\n",
              "        [1.4646],\n",
              "        [1.4722],\n",
              "        [1.4799],\n",
              "        [1.4875],\n",
              "        [1.4952],\n",
              "        [1.5028],\n",
              "        [1.5104]])"
            ]
          },
          "metadata": {},
          "execution_count": 12
        }
      ]
    },
    {
      "cell_type": "code",
      "source": [
        "plot_predictions(predictions=y_pred)"
      ],
      "metadata": {
        "colab": {
          "base_uri": "https://localhost:8080/",
          "height": 452
        },
        "id": "DrnndtDfjg0t",
        "outputId": "6ebc4b61-6a36-4aad-a824-10d537d1818e"
      },
      "execution_count": 13,
      "outputs": [
        {
          "output_type": "display_data",
          "data": {
            "text/plain": [
              "<Figure size 640x480 with 1 Axes>"
            ],
            "image/png": "[encoded data removed]"
          },
          "metadata": {}
        }
      ]
    },
    {
      "cell_type": "markdown",
      "source": [
        "## Training Our Pytorch Linear Model\n",
        "* Change model training device to `cuda (GPU)`\n",
        "* Create & Setup Loss Function and Optimizer for model\n",
        "* Build Train and Test loop"
      ],
      "metadata": {
        "id": "Cl-lAWRcjqLN"
      }
    },
    {
      "cell_type": "code",
      "source": [
        "torch.cuda.is_available()"
      ],
      "metadata": {
        "colab": {
          "base_uri": "https://localhost:8080/"
        },
        "id": "vUqpx57JkEp7",
        "outputId": "5617e018-2e6b-46f2-c356-d9fe2fbe953d"
      },
      "execution_count": 14,
      "outputs": [
        {
          "output_type": "execute_result",
          "data": {
            "text/plain": [
              "True"
            ]
          },
          "metadata": {},
          "execution_count": 14
        }
      ]
    },
    {
      "cell_type": "code",
      "source": [
        "device = \"cuda\" if torch.cuda.is_available() else \"cpu\"\n",
        "device"
      ],
      "metadata": {
        "colab": {
          "base_uri": "https://localhost:8080/",
          "height": 35
        },
        "id": "lgQF8o9WjjTF",
        "outputId": "06aa2430-98fe-4062-ea28-ba78705272a5"
      },
      "execution_count": 15,
      "outputs": [
        {
          "output_type": "execute_result",
          "data": {
            "text/plain": [
              "'cuda'"
            ],
            "application/vnd.google.colaboratory.intrinsic+json": {
              "type": "string"
            }
          },
          "metadata": {},
          "execution_count": 15
        }
      ]
    },
    {
      "cell_type": "code",
      "source": [
        "next(model.parameters()).device"
      ],
      "metadata": {
        "colab": {
          "base_uri": "https://localhost:8080/"
        },
        "id": "110OQmbGkJf6",
        "outputId": "33ffea13-80ff-44d1-bfc9-b56b61ef24af"
      },
      "execution_count": 16,
      "outputs": [
        {
          "output_type": "execute_result",
          "data": {
            "text/plain": [
              "device(type='cpu')"
            ]
          },
          "metadata": {},
          "execution_count": 16
        }
      ]
    },
    {
      "cell_type": "code",
      "source": [
        "model.to(device)\n",
        "next(model.parameters()).device"
      ],
      "metadata": {
        "colab": {
          "base_uri": "https://localhost:8080/"
        },
        "id": "6cpxT9YSkMUQ",
        "outputId": "61a3a62e-2119-4dfe-add5-58e094b273fc"
      },
      "execution_count": 17,
      "outputs": [
        {
          "output_type": "execute_result",
          "data": {
            "text/plain": [
              "device(type='cuda', index=0)"
            ]
          },
          "metadata": {},
          "execution_count": 17
        }
      ]
    },
    {
      "cell_type": "code",
      "source": [
        "# Create & setup Loss Function and Optimizer\n",
        "loss_fn = torch.nn.L1Loss()\n",
        "optimizer = torch.optim.SGD(params=model.parameters(),\n",
        "                            lr=0.01)\n",
        "\n",
        "loss_fn, optimizer"
      ],
      "metadata": {
        "colab": {
          "base_uri": "https://localhost:8080/"
        },
        "id": "OnyGJKbLkeIU",
        "outputId": "3cb3e440-6c34-4101-b390-2c4144866a16"
      },
      "execution_count": 18,
      "outputs": [
        {
          "output_type": "execute_result",
          "data": {
            "text/plain": [
              "(L1Loss(),\n",
              " SGD (\n",
              " Parameter Group 0\n",
              "     dampening: 0\n",
              "     differentiable: False\n",
              "     foreach: None\n",
              "     lr: 0.01\n",
              "     maximize: False\n",
              "     momentum: 0\n",
              "     nesterov: False\n",
              "     weight_decay: 0\n",
              " ))"
            ]
          },
          "metadata": {},
          "execution_count": 18
        }
      ]
    },
    {
      "cell_type": "code",
      "source": [
        "# Build Train Loop\n",
        "EPOCHS = 300\n",
        "\n",
        "# loss curves tracking lists\n",
        "epoch_list = []\n",
        "training_loss = []\n",
        "testing_loss = []\n",
        "\n",
        "\n",
        "for epoch in range(EPOCHS):\n",
        "  # set model to train mode\n",
        "  model.train()\n",
        "\n",
        "  # Forward Propagation\n",
        "  y_preds = model(X_train.to(device))\n",
        "\n",
        "  # Calculate loss\n",
        "  train_loss = loss_fn(y_train.to(device), y_preds)\n",
        "\n",
        "  optimizer.zero_grad()\n",
        "  train_loss.backward()\n",
        "  optimizer.step()\n",
        "\n",
        "  if epoch % 20 == 0:\n",
        "\n",
        "    # Calculate test loss\n",
        "    model.eval()\n",
        "    with torch.inference_mode():\n",
        "      test_preds = model(X_test.to(device))\n",
        "      test_loss = loss_fn(y_test.to(device), test_preds)\n",
        "\n",
        "    epoch_list.append(epoch)\n",
        "    training_loss.append(train_loss.cpu().detach().numpy())\n",
        "    testing_loss.append(test_loss.cpu().detach().numpy())\n",
        "\n",
        "    print(f'Epoch: {epoch} | Train MAE/Loss: {train_loss} | Test MAE/Loss: {test_loss}')\n",
        "    print(f'Model Parameters: {model.state_dict()}')"
      ],
      "metadata": {
        "colab": {
          "base_uri": "https://localhost:8080/"
        },
        "id": "6VckmydMk2uM",
        "outputId": "189b7cfd-1c22-4e3c-8b3e-c8a8614970fd"
      },
      "execution_count": 19,
      "outputs": [
        {
          "output_type": "stream",
          "name": "stdout",
          "text": [
            "Epoch: 0 | Train MAE/Loss: 0.1275613158941269 | Test MAE/Loss: 0.33650314807891846\n",
            "Model Parameters: OrderedDict([('linear_layer.weight', tensor([[0.7609]], device='cuda:0')), ('linear_layer.bias', tensor([0.8240], device='cuda:0'))])\n",
            "Epoch: 20 | Train MAE/Loss: 0.08187223970890045 | Test MAE/Loss: 0.21840262413024902\n",
            "Model Parameters: OrderedDict([('linear_layer.weight', tensor([[0.7004]], device='cuda:0')), ('linear_layer.bias', tensor([0.7600], device='cuda:0'))])\n",
            "Epoch: 40 | Train MAE/Loss: 0.07207288593053818 | Test MAE/Loss: 0.17458660900592804\n",
            "Model Parameters: OrderedDict([('linear_layer.weight', tensor([[0.6582]], device='cuda:0')), ('linear_layer.bias', tensor([0.7540], device='cuda:0'))])\n",
            "Epoch: 60 | Train MAE/Loss: 0.06507988274097443 | Test MAE/Loss: 0.15310420095920563\n",
            "Model Parameters: OrderedDict([('linear_layer.weight', tensor([[0.6225]], device='cuda:0')), ('linear_layer.bias', tensor([0.7645], device='cuda:0'))])\n",
            "Epoch: 80 | Train MAE/Loss: 0.05822876840829849 | Test MAE/Loss: 0.1367770880460739\n",
            "Model Parameters: OrderedDict([('linear_layer.weight', tensor([[0.5883]], device='cuda:0')), ('linear_layer.bias', tensor([0.7788], device='cuda:0'))])\n",
            "Epoch: 100 | Train MAE/Loss: 0.05137667804956436 | Test MAE/Loss: 0.12079393863677979\n",
            "Model Parameters: OrderedDict([('linear_layer.weight', tensor([[0.5542]], device='cuda:0')), ('linear_layer.bias', tensor([0.7933], device='cuda:0'))])\n",
            "Epoch: 120 | Train MAE/Loss: 0.04452557489275932 | Test MAE/Loss: 0.10446684807538986\n",
            "Model Parameters: OrderedDict([('linear_layer.weight', tensor([[0.5201]], device='cuda:0')), ('linear_layer.bias', tensor([0.8075], device='cuda:0'))])\n",
            "Epoch: 140 | Train MAE/Loss: 0.0376744270324707 | Test MAE/Loss: 0.08813951909542084\n",
            "Model Parameters: OrderedDict([('linear_layer.weight', tensor([[0.4859]], device='cuda:0')), ('linear_layer.bias', tensor([0.8218], device='cuda:0'))])\n",
            "Epoch: 160 | Train MAE/Loss: 0.03082224726676941 | Test MAE/Loss: 0.0721558928489685\n",
            "Model Parameters: OrderedDict([('linear_layer.weight', tensor([[0.4518]], device='cuda:0')), ('linear_layer.bias', tensor([0.8363], device='cuda:0'))])\n",
            "Epoch: 180 | Train MAE/Loss: 0.02397105097770691 | Test MAE/Loss: 0.055828340351581573\n",
            "Model Parameters: OrderedDict([('linear_layer.weight', tensor([[0.4177]], device='cuda:0')), ('linear_layer.bias', tensor([0.8505], device='cuda:0'))])\n",
            "Epoch: 200 | Train MAE/Loss: 0.017119847238063812 | Test MAE/Loss: 0.03950077295303345\n",
            "Model Parameters: OrderedDict([('linear_layer.weight', tensor([[0.3835]], device='cuda:0')), ('linear_layer.bias', tensor([0.8648], device='cuda:0'))])\n",
            "Epoch: 220 | Train MAE/Loss: 0.010267681442201138 | Test MAE/Loss: 0.02351718582212925\n",
            "Model Parameters: OrderedDict([('linear_layer.weight', tensor([[0.3495]], device='cuda:0')), ('linear_layer.bias', tensor([0.8793], device='cuda:0'))])\n",
            "Epoch: 240 | Train MAE/Loss: 0.003416901919990778 | Test MAE/Loss: 0.007191836833953857\n",
            "Model Parameters: OrderedDict([('linear_layer.weight', tensor([[0.3153]], device='cuda:0')), ('linear_layer.bias', tensor([0.8935], device='cuda:0'))])\n",
            "Epoch: 260 | Train MAE/Loss: 0.007878492586314678 | Test MAE/Loss: 0.007064235396683216\n",
            "Model Parameters: OrderedDict([('linear_layer.weight', tensor([[0.3068]], device='cuda:0')), ('linear_layer.bias', tensor([0.9010], device='cuda:0'))])\n",
            "Epoch: 280 | Train MAE/Loss: 0.007878492586314678 | Test MAE/Loss: 0.007064235396683216\n",
            "Model Parameters: OrderedDict([('linear_layer.weight', tensor([[0.3068]], device='cuda:0')), ('linear_layer.bias', tensor([0.9010], device='cuda:0'))])\n"
          ]
        }
      ]
    },
    {
      "cell_type": "code",
      "source": [
        "model.state_dict()"
      ],
      "metadata": {
        "colab": {
          "base_uri": "https://localhost:8080/"
        },
        "id": "es1HbLK4mHYJ",
        "outputId": "ed0f43d8-2aa1-4dfc-821c-6ecd770d921f"
      },
      "execution_count": 20,
      "outputs": [
        {
          "output_type": "execute_result",
          "data": {
            "text/plain": [
              "OrderedDict([('linear_layer.weight', tensor([[0.3028]], device='cuda:0')),\n",
              "             ('linear_layer.bias', tensor([0.8910], device='cuda:0'))])"
            ]
          },
          "metadata": {},
          "execution_count": 20
        }
      ]
    },
    {
      "cell_type": "code",
      "source": [
        "weight, bias"
      ],
      "metadata": {
        "colab": {
          "base_uri": "https://localhost:8080/"
        },
        "id": "I-L4S0fzne5v",
        "outputId": "99372dc2-ebbd-40f6-d4dd-afc49a5a924f"
      },
      "execution_count": 21,
      "outputs": [
        {
          "output_type": "execute_result",
          "data": {
            "text/plain": [
              "(0.3, 0.9)"
            ]
          },
          "metadata": {},
          "execution_count": 21
        }
      ]
    },
    {
      "cell_type": "code",
      "source": [
        "with torch.inference_mode():\n",
        "  y_preds = model(X_test.to(device))\n",
        "y_preds[:10]"
      ],
      "metadata": {
        "colab": {
          "base_uri": "https://localhost:8080/"
        },
        "id": "5KzVJL6zngCr",
        "outputId": "2f2521b4-fb85-4372-8d32-34d42738abe9"
      },
      "execution_count": 22,
      "outputs": [
        {
          "output_type": "execute_result",
          "data": {
            "text/plain": [
              "tensor([[1.1333],\n",
              "        [1.1363],\n",
              "        [1.1393],\n",
              "        [1.1423],\n",
              "        [1.1454],\n",
              "        [1.1484],\n",
              "        [1.1514],\n",
              "        [1.1545],\n",
              "        [1.1575],\n",
              "        [1.1605]], device='cuda:0')"
            ]
          },
          "metadata": {},
          "execution_count": 22
        }
      ]
    },
    {
      "cell_type": "code",
      "source": [
        "print(f'Test loss: {loss_fn(y_test, y_preds.cpu())}')"
      ],
      "metadata": {
        "colab": {
          "base_uri": "https://localhost:8080/"
        },
        "id": "tsEM11mbn6Ah",
        "outputId": "6424ba06-2eb7-49ae-9931-b48c276c8095"
      },
      "execution_count": 23,
      "outputs": [
        {
          "output_type": "stream",
          "name": "stdout",
          "text": [
            "Test loss: 0.006470995955169201\n"
          ]
        }
      ]
    },
    {
      "cell_type": "code",
      "source": [
        "plot_predictions(predictions=y_preds.cpu())"
      ],
      "metadata": {
        "colab": {
          "base_uri": "https://localhost:8080/",
          "height": 452
        },
        "id": "KitcfSTGnrHx",
        "outputId": "e50824c4-ab4f-46b8-c030-845df3f6f423"
      },
      "execution_count": 24,
      "outputs": [
        {
          "output_type": "display_data",
          "data": {
            "text/plain": [
              "<Figure size 640x480 with 1 Axes>"
            ],
            "image/png": "[encoded data removed]"
          },
          "metadata": {}
        }
      ]
    },
    {
      "cell_type": "code",
      "source": [
        "plt.plot(epoch_list, training_loss, color='blue', label='Train Loss Curve')\n",
        "plt.plot(epoch_list, testing_loss, color='orange', label='Test Loss Curve')\n",
        "plt.grid()\n",
        "plt.legend()\n",
        "plt.title('Train & Test Loss curves')\n",
        "plt.show()"
      ],
      "metadata": {
        "colab": {
          "base_uri": "https://localhost:8080/",
          "height": 452
        },
        "id": "KFK04k6GoHoq",
        "outputId": "74118dba-e6b7-4c51-9289-090acf8480c4"
      },
      "execution_count": 25,
      "outputs": [
        {
          "output_type": "display_data",
          "data": {
            "text/plain": [
              "<Figure size 640x480 with 1 Axes>"
            ],
            "image/png": "[encoded data removed]"
          },
          "metadata": {}
        }
      ]
    },
    {
      "cell_type": "markdown",
      "source": [
        "## Saving and Re-loading our model!"
      ],
      "metadata": {
        "id": "FXcau2jVp0gG"
      }
    },
    {
      "cell_type": "code",
      "source": [
        "MODEL_SAVE_PATH = 'pytorch_linear_model.pth'\n",
        "torch.save(model.state_dict(), f=MODEL_SAVE_PATH)"
      ],
      "metadata": {
        "id": "jW1n_0N3pTCZ"
      },
      "execution_count": 26,
      "outputs": []
    },
    {
      "cell_type": "code",
      "source": [
        "loaded_model = LinearRegressionModel()\n",
        "loaded_model.load_state_dict(torch.load(f=MODEL_SAVE_PATH))\n",
        "loaded_model.state_dict()"
      ],
      "metadata": {
        "colab": {
          "base_uri": "https://localhost:8080/"
        },
        "id": "dUcFo0PyqENF",
        "outputId": "9f082db2-242b-4ef0-e672-03b19f4cb374"
      },
      "execution_count": 27,
      "outputs": [
        {
          "output_type": "execute_result",
          "data": {
            "text/plain": [
              "OrderedDict([('linear_layer.weight', tensor([[0.3028]])),\n",
              "             ('linear_layer.bias', tensor([0.8910]))])"
            ]
          },
          "metadata": {},
          "execution_count": 27
        }
      ]
    },
    {
      "cell_type": "code",
      "source": [
        "loaded_model.to(device)\n",
        "with torch.inference_mode():\n",
        "  loaded_preds = loaded_model(X_test.to(device))\n",
        "loaded_preds == y_preds"
      ],
      "metadata": {
        "colab": {
          "base_uri": "https://localhost:8080/"
        },
        "id": "MJqDx1SAqOM7",
        "outputId": "c70b3077-2172-44b5-cbe0-3adb3ab44066"
      },
      "execution_count": 29,
      "outputs": [
        {
          "output_type": "execute_result",
          "data": {
            "text/plain": [
              "tensor([[True],\n",
              "        [True],\n",
              "        [True],\n",
              "        [True],\n",
              "        [True],\n",
              "        [True],\n",
              "        [True],\n",
              "        [True],\n",
              "        [True],\n",
              "        [True],\n",
              "        [True],\n",
              "        [True],\n",
              "        [True],\n",
              "        [True],\n",
              "        [True],\n",
              "        [True],\n",
              "        [True],\n",
              "        [True],\n",
              "        [True],\n",
              "        [True]], device='cuda:0')"
            ]
          },
          "metadata": {},
          "execution_count": 29
        }
      ]
    }
  ]
}